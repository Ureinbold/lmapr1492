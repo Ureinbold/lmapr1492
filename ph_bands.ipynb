{
 "cells": [
  {
   "cell_type": "code",
   "execution_count": null,
   "id": "2c7803b3-4422-4502-b509-ad02c4299312",
   "metadata": {},
   "outputs": [],
   "source": [
    "from mp_api.client import MPRester\n",
    "from pymatgen.phonon.plotter import PhononBSPlotter\n",
    "import numpy as np\n",
    "import matplotlib.pyplot as plt\n",
    "\n",
    "mp_key = \"ER5V8i0JUw7k31Nk5IpkvogP61BDz9cw\"\n",
    "mp_id = \"mp-441\"\n",
    "\n",
    "with MPRester(mp_key) as m:\n",
    "    ph_bs = m.get_phonon_bandstructure_by_material_id(mp_id)\n"
   ]
  },
  {
   "cell_type": "markdown",
   "id": "3a21c6d8-1a7b-47c1-afd7-733232794d1c",
   "metadata": {},
   "source": [
    "### Structure des bandes de phonons et zone de brillouin"
   ]
  },
  {
   "cell_type": "code",
   "execution_count": null,
   "id": "fc8c07ff-ad52-4c55-9204-dc35cbe8cd44",
   "metadata": {},
   "outputs": [],
   "source": [
    "ph_bandstructure = PhononBSPlotter(ph_bs)\n",
    "data_ph = ph_bandstructure.bs_plot_data()\n",
    "distances = data_ph['distances']\n",
    "frequency = data_ph['frequency']\n",
    "\n",
    "ph_bandstructure_plot = ph_bandstructure.get_plot()\n",
    "for i in range(len(distances)):\n",
    "    plt.plot(distances[i], frequency[i][0], color = 'gold')\n",
    "    plt.plot(distances[i], frequency[i][1], color = 'red')\n",
    "    plt.plot(distances[i], frequency[i][2], color = 'green')\n",
    "\n",
    "ph_bandstructure.plot_brillouin()"
   ]
  },
  {
   "cell_type": "markdown",
   "id": "092c04d6-972f-472b-b1f6-829781b223b0",
   "metadata": {},
   "source": [
    "### Vitesse du son"
   ]
  },
  {
   "cell_type": "code",
   "execution_count": null,
   "id": "d2c562e0-5c70-4827-8afd-3a83dc045892",
   "metadata": {},
   "outputs": [],
   "source": [
    "A = 10**10\n",
    "\n",
    "print ('Γ - X:')\n",
    "cas_1 = 2*np.pi*np.abs((frequency[0][1][1]-frequency[0][1][0])*(10**12))\n",
    "cas_1 = cas_1/((distances[0][1]-distances[0][0])*Ang)\n",
    "print('La vitesse de propagation du son pour la première bande acoustique dans le cas Γ - X vaut {} m/s'.format(cas_1))\n",
    "\n",
    "print ('K - Γ:')\n",
    "cas_2 = 2*np.pi*np.abs((frequency[3][0][-1]-frequency[3][0][-2])*(10**12))\n",
    "cas_2 = cas_2/((distances[3][-1]-distances[3][-2])*Ang)\n",
    "print('La vitesse de propagation du son pour la seconde bande acoustique dans le cas K - Γ vaut {} m/s'.format(cas_2))\n",
    "\n",
    "print ('Γ - L:')\n",
    "cas_3 = 2*np.pi*np.abs((frequency[4][2][1]-frequency[4][2][0])*(10**12))\n",
    "cas_3 = cas_3/((distances[4][1]-distances[4][0])*Ang)\n",
    "print('La vitesse de propagation du son pour la troisième bande acoustique dans le cas Γ - L vaut {} m/s'.format(cas_3))\n",
    "\n"
   ]
  },
  {
   "cell_type": "code",
   "execution_count": null,
   "id": "598b0406-e0a8-4f1c-9976-cedfbd95dfff",
   "metadata": {},
   "outputs": [],
   "source": []
  }
 ],
 "metadata": {
  "kernelspec": {
   "display_name": "Python 3 (ipykernel)",
   "language": "python",
   "name": "python3"
  },
  "language_info": {
   "codemirror_mode": {
    "name": "ipython",
    "version": 3
   },
   "file_extension": ".py",
   "mimetype": "text/x-python",
   "name": "python",
   "nbconvert_exporter": "python",
   "pygments_lexer": "ipython3",
   "version": "3.10.12"
  }
 },
 "nbformat": 4,
 "nbformat_minor": 5
}
