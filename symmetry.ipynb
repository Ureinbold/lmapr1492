{
 "cells": [
  {
   "cell_type": "code",
   "execution_count": null,
   "id": "0abf9ccc-a7f7-4e16-94c0-ec3413851e68",
   "metadata": {},
   "outputs": [],
   "source": [
    "import numpy as np\n",
    "from pymatgen.ext.matproj import MPRester\n",
    "from pymatgen.core.operations import SymmOp\n",
    "from pymatgen.symmetry.analyzer import SpacegroupAnalyzer\n",
    "from pymatgen.electronic_structure.plotter import BSPlotter\n",
    "from pymatgen.phonon.plotter import PhononBSPlotter\n",
    "from jupyter_jsmol.pymatgen import quick_view\n",
    "from lmapr1492 import plot_brillouin_zone, get_plot_bs, get_plot_dos, get_plot_bs_and_dos, get_branch_wavevectors\n",
    "from plotly.subplots import make_subplots\n",
    "import plotly.graph_objects as go"
   ]
  },
  {
   "cell_type": "code",
   "execution_count": null,
   "id": "bdfb2996-00b8-4cac-a5f7-a1ef8ab72db9",
   "metadata": {},
   "outputs": [],
   "source": [
    "mp_key = \"ER5V8i0JUw7k31Nk5IpkvogP61BDz9cw\"\n",
    "mp_id = \"mp-441\""
   ]
  },
  {
   "cell_type": "code",
   "execution_count": null,
   "id": "3b6f4846-a051-4021-bb83-d0e79a420f92",
   "metadata": {},
   "outputs": [],
   "source": [
    "with MPRester(\"ER5V8i0JUw7k31Nk5IpkvogP61BDz9cw\") as m:\n",
    "    structure = m.get_structure_by_material_id(\"mp-441\")\n",
    "    structure.to(filename=\"Rb2Te_mp-441_primitive.cif\")\n",
    "    print(structure)"
   ]
  },
  {
   "cell_type": "code",
   "execution_count": null,
   "id": "c76a0c97-e06f-4eef-9573-b8dae9a62fba",
   "metadata": {},
   "outputs": [],
   "source": [
    "i_atom = 6\n",
    "i_symmop = 3\n",
    "\n",
    "view = quick_view(prim_struc, \"packed\", conventional = True)\n",
    "display(view)\n",
    "view.script('select Rb; color lightsalmon')\n",
    "view.script('select Te; color gold')\n",
    "view.script('draw SYMOP ' + str(i_symmop) + ' {atomno = ' + str(i_atom) + '}')\n",
    "symmop = symmops[i_symmop - 1]\n",
    "print(symmop)"
   ]
  },
  {
   "cell_type": "code",
   "execution_count": null,
   "id": "e868659f-0ea8-4508-9418-4c0ed8572c30",
   "metadata": {},
   "outputs": [],
   "source": [
    "pos_init = conv_struc.sites[i_atom -1].frac_coords\n",
    "pos_final = symmop.operate(pos_init)\n",
    "for k_atom, site in enumerate(conv_struc.sites):\n",
    "    if np.linalg.norm((site.frac_coords - pos_final)%1) < 1e-6:\n",
    "        j_atom = k_atom + 1\n",
    "print(j_atom, conv_struc.sites[j_atom -1].frac_coords)\n",
    "print(pos_final)\n",
    "print(pos_init)"
   ]
  },
  {
   "cell_type": "code",
   "execution_count": null,
   "id": "7e1cb300-248c-4c89-b446-22c34429c15a",
   "metadata": {},
   "outputs": [],
   "source": [
    "plot_brillouin_zone(el_bs.structure)"
   ]
  }
 ],
 "metadata": {
  "kernelspec": {
   "display_name": "Python 3 (ipykernel)",
   "language": "python",
   "name": "python3"
  },
  "language_info": {
   "codemirror_mode": {
    "name": "ipython",
    "version": 3
   },
   "file_extension": ".py",
   "mimetype": "text/x-python",
   "name": "python",
   "nbconvert_exporter": "python",
   "pygments_lexer": "ipython3",
   "version": "3.10.12"
  }
 },
 "nbformat": 4,
 "nbformat_minor": 5
}
