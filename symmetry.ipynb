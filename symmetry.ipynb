{
 "cells": [
  {
   "cell_type": "code",
   "execution_count": 1,
   "id": "0abf9ccc-a7f7-4e16-94c0-ec3413851e68",
   "metadata": {},
   "outputs": [],
   "source": [
    "import numpy as np\n",
    "from pymatgen.ext.matproj import MPRester\n",
    "from pymatgen.core.operations import SymmOp\n",
    "from pymatgen.symmetry.analyzer import SpacegroupAnalyzer\n",
    "from pymatgen.electronic_structure.plotter import BSPlotter\n",
    "from pymatgen.phonon.plotter import PhononBSPlotter\n",
    "from jupyter_jsmol.pymatgen import quick_view\n",
    "from lmapr1492 import plot_brillouin_zone, get_plot_bs, get_plot_dos, get_plot_bs_and_dos, get_branch_wavevectors\n",
    "from plotly.subplots import make_subplots\n",
    "import plotly.graph_objects as go"
   ]
  },
  {
   "cell_type": "code",
   "execution_count": 2,
   "id": "bdfb2996-00b8-4cac-a5f7-a1ef8ab72db9",
   "metadata": {},
   "outputs": [],
   "source": [
    "mp_key = \"ER5V8i0JUw7k31Nk5IpkvogP61BDz9cw\"\n",
    "mp_id = \"mp-441\""
   ]
  },
  {
   "cell_type": "code",
   "execution_count": 3,
   "id": "3b6f4846-a051-4021-bb83-d0e79a420f92",
   "metadata": {},
   "outputs": [
    {
     "data": {
      "application/vnd.jupyter.widget-view+json": {
       "model_id": "0a50771c9d5442499bb5123acd791245",
       "version_major": 2,
       "version_minor": 0
      },
      "text/plain": [
       "Retrieving MaterialsDoc documents:   0%|          | 0/1 [00:00<?, ?it/s]"
      ]
     },
     "metadata": {},
     "output_type": "display_data"
    },
    {
     "name": "stdout",
     "output_type": "stream",
     "text": [
      "Full Formula (Rb2 Te1)\n",
      "Reduced Formula: Rb2Te\n",
      "abc   :   6.054396   6.054396   6.054397\n",
      "angles:  60.000001  60.000001  59.999998\n",
      "pbc   :       True       True       True\n",
      "Sites (3)\n",
      "  #  SP        a      b     c    magmom\n",
      "---  ----  -----  -----  ----  --------\n",
      "  0  Rb     0.25   0.25  0.25         0\n",
      "  1  Rb     0.75   0.75  0.75         0\n",
      "  2  Te    -0     -0     0            0\n"
     ]
    }
   ],
   "source": [
    "with MPRester(\"ER5V8i0JUw7k31Nk5IpkvogP61BDz9cw\") as m:\n",
    "    structure = m.get_structure_by_material_id(\"mp-441\")\n",
    "    structure.to(filename=\"Rb2Te_mp-441_primitive.cif\")\n",
    "    print(structure)"
   ]
  },
  {
   "cell_type": "code",
   "execution_count": 4,
   "id": "c76a0c97-e06f-4eef-9573-b8dae9a62fba",
   "metadata": {},
   "outputs": [
    {
     "ename": "NameError",
     "evalue": "name 'prim_struc' is not defined",
     "output_type": "error",
     "traceback": [
      "\u001b[0;31m---------------------------------------------------------------------------\u001b[0m",
      "\u001b[0;31mNameError\u001b[0m                                 Traceback (most recent call last)",
      "Cell \u001b[0;32mIn[4], line 4\u001b[0m\n\u001b[1;32m      1\u001b[0m i_atom \u001b[38;5;241m=\u001b[39m \u001b[38;5;241m6\u001b[39m\n\u001b[1;32m      2\u001b[0m i_symmop \u001b[38;5;241m=\u001b[39m \u001b[38;5;241m3\u001b[39m\n\u001b[0;32m----> 4\u001b[0m view \u001b[38;5;241m=\u001b[39m quick_view(\u001b[43mprim_struc\u001b[49m, \u001b[38;5;124m\"\u001b[39m\u001b[38;5;124mpacked\u001b[39m\u001b[38;5;124m\"\u001b[39m, conventional \u001b[38;5;241m=\u001b[39m \u001b[38;5;28;01mTrue\u001b[39;00m)\n\u001b[1;32m      5\u001b[0m display(view)\n\u001b[1;32m      6\u001b[0m view\u001b[38;5;241m.\u001b[39mscript(\u001b[38;5;124m'\u001b[39m\u001b[38;5;124mselect Rb; color lightsalmon\u001b[39m\u001b[38;5;124m'\u001b[39m)\n",
      "\u001b[0;31mNameError\u001b[0m: name 'prim_struc' is not defined"
     ]
    }
   ],
   "source": [
    "i_atom = 6\n",
    "i_symmop = 3\n",
    "\n",
    "view = quick_view(prim_struc, \"packed\", conventional = True)\n",
    "display(view)\n",
    "view.script('select Rb; color lightsalmon')\n",
    "view.script('select Te; color gold')\n",
    "view.script('draw SYMOP ' + str(i_symmop) + ' {atomno = ' + str(i_atom) + '}')\n",
    "symmop = symmops[i_symmop - 1]\n",
    "print(symmop)"
   ]
  },
  {
   "cell_type": "code",
   "execution_count": null,
   "id": "e868659f-0ea8-4508-9418-4c0ed8572c30",
   "metadata": {},
   "outputs": [],
   "source": [
    "pos_init = conv_struc.sites[i_atom -1].frac_coords\n",
    "pos_final = symmop.operate(pos_init)\n",
    "for k_atom, site in enumerate(conv_struc.sites):\n",
    "    if np.linalg.norm((site.frac_coords - pos_final)%1) < 1e-6:\n",
    "        j_atom = k_atom + 1\n",
    "print(j_atom, conv_struc.sites[j_atom -1].frac_coords)\n",
    "print(pos_final)\n",
    "print(pos_init)"
   ]
  },
  {
   "cell_type": "code",
   "execution_count": null,
   "id": "7e1cb300-248c-4c89-b446-22c34429c15a",
   "metadata": {},
   "outputs": [],
   "source": [
    "plot_brillouin_zone(el_bs.structure)"
   ]
  }
 ],
 "metadata": {
  "kernelspec": {
   "display_name": "Python 3 (ipykernel)",
   "language": "python",
   "name": "python3"
  },
  "language_info": {
   "codemirror_mode": {
    "name": "ipython",
    "version": 3
   },
   "file_extension": ".py",
   "mimetype": "text/x-python",
   "name": "python",
   "nbconvert_exporter": "python",
   "pygments_lexer": "ipython3",
   "version": "3.9.13"
  }
 },
 "nbformat": 4,
 "nbformat_minor": 5
}
