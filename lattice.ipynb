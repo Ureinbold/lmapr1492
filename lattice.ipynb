{
 "cells": [
  {
   "cell_type": "markdown",
   "id": "f26c4a4c",
   "metadata": {},
   "source": [
    "# Tache 4"
   ]
  },
  {
   "cell_type": "code",
   "execution_count": 1,
   "id": "b5390204",
   "metadata": {},
   "outputs": [],
   "source": [
    "from mp_api.client import MPRester\n",
    "from pymatgen.symmetry.analyzer import SpacegroupAnalyzer"
   ]
  },
  {
   "cell_type": "markdown",
   "id": "d9a27899",
   "metadata": {},
   "source": [
    "# Initialisation du Rb2Te"
   ]
  },
  {
   "cell_type": "code",
   "execution_count": 2,
   "id": "a4657bc4",
   "metadata": {
    "scrolled": true
   },
   "outputs": [
    {
     "data": {
      "application/vnd.jupyter.widget-view+json": {
       "model_id": "8d9b4ca9ec2a49ccb401cecc6eb16936",
       "version_major": 2,
       "version_minor": 0
      },
      "text/plain": [
       "Retrieving MaterialsDoc documents:   0%|          | 0/1 [00:00<?, ?it/s]"
      ]
     },
     "metadata": {},
     "output_type": "display_data"
    },
    {
     "name": "stdout",
     "output_type": "stream",
     "text": [
      "Full Formula (Rb2 Te1)\n",
      "Reduced Formula: Rb2Te\n",
      "abc   :   6.054396   6.054396   6.054397\n",
      "angles:  60.000001  60.000001  59.999998\n",
      "pbc   :       True       True       True\n",
      "Sites (3)\n",
      "  #  SP        a      b     c    magmom\n",
      "---  ----  -----  -----  ----  --------\n",
      "  0  Rb     0.25   0.25  0.25         0\n",
      "  1  Rb     0.75   0.75  0.75         0\n",
      "  2  Te    -0     -0     0            0\n"
     ]
    }
   ],
   "source": [
    "#Initialisation du Rb2Te\n",
    "with MPRester(\"ER5V8i0JUw7k31Nk5IpkvogP61BDz9cw\") as m:\n",
    "    structure = m.get_structure_by_material_id(\"mp-441\")\n",
    "    structure.to(filename=\"Rb2Te_mp-441_primitive.cif\")\n",
    "    print(structure)"
   ]
  },
  {
   "cell_type": "markdown",
   "id": "f383a53f",
   "metadata": {},
   "source": [
    "# Détermination du réseau direct"
   ]
  },
  {
   "cell_type": "code",
   "execution_count": 3,
   "id": "3cf7a3ac",
   "metadata": {},
   "outputs": [
    {
     "name": "stdout",
     "output_type": "stream",
     "text": [
      "Vecteurs de base du réseau direct : \n",
      "\n",
      "a = ( 6.054395575056957 , 0, 0) Å\n",
      "\n",
      "b = (0, 6.054395745621043 , 0) Å\n",
      "\n",
      "c = (0, 0,  6.05439651 ) Å\n",
      "\n"
     ]
    }
   ],
   "source": [
    "struct = structure.lattice\n",
    "print(\"Vecteurs de base du réseau direct : \\n\")\n",
    "print(\"a = (\",struct.a,\", 0, 0) Å\\n\")\n",
    "print(\"b = (0,\",struct.b,\", 0) Å\\n\")\n",
    "print(\"c = (0, 0, \",struct.c,\") Å\\n\")"
   ]
  },
  {
   "cell_type": "markdown",
   "id": "2f1af4c7",
   "metadata": {},
   "source": [
    "# Détermination du réseau réciproque"
   ]
  },
  {
   "cell_type": "code",
   "execution_count": 4,
   "id": "050e7268",
   "metadata": {},
   "outputs": [
    {
     "name": "stdout",
     "output_type": "stream",
     "text": [
      "Vecteurs de base du réseau réciproque : \n",
      "\n",
      "a* = ( 0.2022901994663935 , 0, 0) Å\n",
      "\n",
      "b* = (0, 0.2022901919964533 , 0) Å\n",
      "\n",
      "c* = (0, 0,  0.2022901611877019 ) Å\n",
      "\n"
     ]
    }
   ],
   "source": [
    "a_rec = struct.reciprocal_lattice_crystallographic.a\n",
    "b_rec = struct.reciprocal_lattice_crystallographic.b\n",
    "c_rec = struct.reciprocal_lattice_crystallographic.c\n",
    "print(\"Vecteurs de base du réseau réciproque : \\n\")\n",
    "print(\"a* = (\",a_rec,\", 0, 0) Å\\n\")\n",
    "print(\"b* = (0,\",b_rec,\", 0) Å\\n\")\n",
    "print(\"c* = (0, 0, \",c_rec,\") Å\\n\")"
   ]
  },
  {
   "cell_type": "markdown",
   "id": "af987285",
   "metadata": {},
   "source": [
    "# Détermination du type de maille"
   ]
  },
  {
   "cell_type": "code",
   "execution_count": 5,
   "id": "78aa8029",
   "metadata": {},
   "outputs": [
    {
     "name": "stdout",
     "output_type": "stream",
     "text": [
      "Type de maille :  cubic \n",
      "\n"
     ]
    }
   ],
   "source": [
    "analyser = SpacegroupAnalyzer(structure)\n",
    "maille = analyser.get_lattice_type()\n",
    "print(\"Type de maille : \",maille,\"\\n\")"
   ]
  },
  {
   "cell_type": "markdown",
   "id": "27993c7c",
   "metadata": {},
   "source": [
    "# Détermination du système cristallin"
   ]
  },
  {
   "cell_type": "code",
   "execution_count": 6,
   "id": "78972aed",
   "metadata": {},
   "outputs": [
    {
     "name": "stdout",
     "output_type": "stream",
     "text": [
      "Système cristallin :  cubic  \n",
      "\n"
     ]
    }
   ],
   "source": [
    "sys = analyser.get_crystal_system() \n",
    "print(\"Système cristallin : \",sys,\" \\n\")"
   ]
  },
  {
   "cell_type": "markdown",
   "id": "aadfb40f",
   "metadata": {},
   "source": [
    "# Détermination du groupe ponctuel"
   ]
  },
  {
   "cell_type": "code",
   "execution_count": 7,
   "id": "333a2619",
   "metadata": {},
   "outputs": [
    {
     "name": "stdout",
     "output_type": "stream",
     "text": [
      "Groupe ponctuel :  m-3m  \n",
      "\n"
     ]
    }
   ],
   "source": [
    "group = analyser.get_point_group_symbol()\n",
    "print(\"Groupe ponctuel : \",group,\" \\n\")"
   ]
  },
  {
   "cell_type": "code",
   "execution_count": null,
   "id": "18259719",
   "metadata": {},
   "outputs": [],
   "source": []
  }
 ],
 "metadata": {
  "kernelspec": {
   "display_name": "Python 3 (ipykernel)",
   "language": "python",
   "name": "python3"
  },
  "language_info": {
   "codemirror_mode": {
    "name": "ipython",
    "version": 3
   },
   "file_extension": ".py",
   "mimetype": "text/x-python",
   "name": "python",
   "nbconvert_exporter": "python",
   "pygments_lexer": "ipython3",
   "version": "3.9.13"
  }
 },
 "nbformat": 4,
 "nbformat_minor": 5
}
