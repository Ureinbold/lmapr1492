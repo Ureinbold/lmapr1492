{
 "cells": [
  {
   "cell_type": "markdown",
   "id": "dc1ca2c4-1371-457d-9779-b021f5ea0816",
   "metadata": {},
   "source": [
    "## Analyse de la structure"
   ]
  },
  {
   "cell_type": "code",
   "execution_count": null,
   "id": "39cd78f1-f262-4215-af37-1ef3b7a68e6f",
   "metadata": {},
   "outputs": [],
   "source": [
    "from pymatgen.ext.matproj import MPRester\n",
    "from pymatgen.electronic_structure import plotter\n",
    "from pymatgen.electronic_structure.plotter import BSPlotter\n",
    "from pymatgen.electronic_structure import bandstructure\n",
    "from pymatgen.electronic_structure.core import Spin\n",
    "import numpy as np\n",
    "import matplotlib.pyplot as plt\n",
    "\n",
    "mp_key = \"ER5V8i0JUw7k31Nk5IpkvogP61BDz9cw\"\n",
    "mp_id = \"mp-441\"\n",
    "with MPRester(mp_key) as m:\n",
    "    structure = m.get_structure_by_material_id(mp_id)"
   ]
  },
  {
   "cell_type": "markdown",
   "id": "2c849fe6-267c-42a8-abfa-2144af45ed53",
   "metadata": {},
   "source": [
    "### Bande interdite"
   ]
  },
  {
   "cell_type": "code",
   "execution_count": null,
   "id": "dbc323c0-987c-4d1b-b163-43b8509b7e53",
   "metadata": {},
   "outputs": [],
   "source": [
    "gap = band.get_band_gap()\n",
    "\n",
    "if gap['direct']==True:\n",
    "    direct = \"directe\"\n",
    "else:\n",
    "    direct=\"indirecte\"\n",
    "print(\"La largeur de la bande interdite est de \" + str(gap[\"energy\"])+ \" eV\")\n",
    "print(\"Pour ce matériau, la bande interdite est : \" + str(direct))\n",
    "print(\"Direction du vecteur de transition : \" + str(gap[\"transition\"]))\n",
    "\n",
    "# visualisation\n",
    "\n",
    "bs = BSPlotter(band)\n",
    "data = bs.bs_plot_data()\n",
    "energy = gap.get('energy')\n",
    "distance = data.get('ticks').get('distance')\n",
    "\n",
    "bs.get_plot(vbm_cbm_marker=True)\n",
    "plt.fill_between(np.linspace(distance[0], distance[-1], 2), 0, energy, color = \"yellow\")\n",
    "plot_data = bs.bs_plot_data()\n",
    "data = plot_data['ticks']['distance']"
   ]
  },
  {
   "cell_type": "markdown",
   "id": "841d0cd7-b36f-4ada-a521-d004d899ac2d",
   "metadata": {},
   "source": [
    "### Derniere bande de valence"
   ]
  },
  {
   "cell_type": "code",
   "execution_count": null,
   "id": "2346559f-53a6-4078-bb4a-065851e8912f",
   "metadata": {},
   "outputs": [],
   "source": [
    "data = bs.bs_plot_data()\n",
    "\n",
    "vbm = band.get_vbm() #bande de valence\n",
    "cbm = band.get_cbm() #bande de conduction\n",
    "index_cond = band.get_cbm()['band_index'][Spin.up][0]\n",
    "index_val = band.get_vbm()['band_index'][Spin.up][0]\n",
    "print(\"La dernière bande de valence est : \"+str(index_val))\n",
    "print(\"Energie de celle-ci : \"+str(vbm.get('energy')) + \"eV\" )\n",
    "print(\"\\n\")\n",
    "print(\"La première bande de conduction est : \"+ str(index_cond))\n",
    "print(\"Energie de celle-ci : \"+str(cbm.get('energy')) + \"eV\" )\n",
    "print(\"\\n\")\n",
    "print(\"La bande interdite est la différence entre les deux :\" +str((cbm.get('energy')-(vbm.get('energy')))) + ' eV')\n"
   ]
  },
  {
   "cell_type": "markdown",
   "id": "b4d40ab8-cab7-4dd1-bf04-f8c1a8c2f5ea",
   "metadata": {},
   "source": [
    "#### Direction dispertion"
   ]
  },
  {
   "cell_type": "code",
   "execution_count": null,
   "id": "d0c4ec2c-c1fd-4f06-9fb9-59ae9127e1ca",
   "metadata": {},
   "outputs": [],
   "source": [
    "distance = data.get('distances')\n",
    "energy = data.get('energy')\n",
    "\n",
    "def slope(x,y):\n",
    "    slope = abs(y[-1]-y[0])/(x[-1]-x[0])\n",
    "    return np.array([slope,x[0],y[0],x[-1]-x[0],y[-1]-y[0]])\n",
    "\n",
    "slope_val = np.zeros((len(distance), 5))\n",
    "slope_con = np.zeros((len(distance), 5))\n",
    "\n",
    "for i in range(len(distance)):\n",
    "    slope_val[i] = slope(distance[i], energy[\"1\"][i][11])\n",
    "    slope_con[i] = slope(distance[i], energy[\"1\"][i][12])\n",
    "\n",
    "val_slopes = slope_val.T\n",
    "con_slopes = slope_con.T\n",
    "\n",
    "max_val = np.argmax(val_slopes[0])\n",
    "min_val = np.argmin(val_slopes[0])\n",
    "max_con = np.argmax(con_slopes[0]) \n",
    "min_con = np.argmin(con_slopes[0])\n",
    "\n",
    "figure,axes = plt.subplots(1,1,figsize=(15,10))\n",
    "\n",
    "for i in range(len(distance)):\n",
    "    plt.plot(distance[i],energy['1'][i][11],'b')\n",
    "    plt.plot(distance[i],energy['1'][i][12],'b')\n",
    "\n",
    "for i in range(len(data.get(\"vbm\"))):\n",
    "    x, y= data.get(\"vbm\")[i]\n",
    "    plt.plot(x,y,markersize=10)\n",
    "\n",
    "for i in range(len(data.get(\"cbm\"))):\n",
    "    x, y = data.get(\"cbm\")[i]\n",
    "    plt.plot(x,y,markersize=10)\n",
    "\n",
    "dts=[]    \n",
    "for i in range(len(distance)):\n",
    "    dts.append(distance[i][0])\n",
    "\n",
    "dts.append(7.10830014)\n",
    "plt.arrow(val_slopes[1][max_val], val_slopes[2][max_val], val_slopes[3][max_val], val_slopes[4][max_val], color='red', width=0.030, length_includes_head=True)\n",
    "plt.arrow(val_slopes[1][min_val], val_slopes[2][min_val], val_slopes[3][min_val], val_slopes[4][min_val], color='black', width=0.030, length_includes_head=True)\n",
    "plt.arrow(con_slopes[1][max_con], con_slopes[2][max_con], con_slopes[3][max_con], con_slopes[4][max_con], color='red', width=0.030, length_includes_head=True)\n",
    "plt.arrow(con_slopes[1][min_con], con_slopes[2][min_con], con_slopes[3][min_con], con_slopes[4][min_con], color='black', width=0.030, length_includes_head=True)\n",
    "\n",
    "axes.set_xticks(dts)\n",
    "axes.set_xticklabels(['Γ','X',\"W\",'K','Γ',\"L\",'U','W',\"L\",'K|U','X'])\n",
    "axes.set_xlabel(\"wave vector\")\n",
    "axes.set_ylabel(\"E - $E_{f}$ [eV]\")\n",
    "\n",
    "plt.show()\n"
   ]
  },
  {
   "cell_type": "markdown",
   "id": "97cabf56-d728-4541-b4d4-9f14ff43e7ee",
   "metadata": {},
   "source": [
    "### Masse effective derniere bande de valance et premmiere bande de conduction"
   ]
  },
  {
   "cell_type": "code",
   "execution_count": null,
   "id": "74fb913b-0066-4593-aba6-29d1cfc8ca10",
   "metadata": {},
   "outputs": [],
   "source": [
    "h = 6.62607015e-34 \n",
    "eV = 1.6022e-19\n",
    "h_bar = h/(2*np.pi)\n",
    "k_cond = band.get_cbm()['kpoint'].frac_coords*1e10\n",
    "k_val = band.get_vbm()['kpoint'].frac_coords*1e10\n",
    "E_cond = band.get_cbm()['energy']\n",
    "E_val = band.get_vbm()['energy']\n",
    "masse_cond = (h_bar**2 * (k_cond[0]**2+k_cond[1]**2+k_cond[2]**2))/(2*E_cond*eV)\n",
    "print('Masse effective à la base de la première bande de conduction ' + str(masse_cond)+' kg\\n')\n",
    "masse_val = (h_bar**2 * (k_val[0]**2+k_val[1]**2+k_val[2]**2))/(2*abs(E_val)*eV)\n",
    "print('Masse effective au sommet de la dernière bande de valence vaut ' + str(masse_val)+' kg\\n')"
   ]
  }
 ],
 "metadata": {
  "kernelspec": {
   "display_name": "Python 3 (ipykernel)",
   "language": "python",
   "name": "python3"
  },
  "language_info": {
   "codemirror_mode": {
    "name": "ipython",
    "version": 3
   },
   "file_extension": ".py",
   "mimetype": "text/x-python",
   "name": "python",
   "nbconvert_exporter": "python",
   "pygments_lexer": "ipython3",
   "version": "3.10.12"
  }
 },
 "nbformat": 4,
 "nbformat_minor": 5
}
