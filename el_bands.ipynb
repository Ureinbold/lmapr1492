{
 "cells": [
  {
   "cell_type": "markdown",
   "id": "dc1ca2c4-1371-457d-9779-b021f5ea0816",
   "metadata": {},
   "source": [
    "##Analyse de la structure"
   ]
  },
  {
   "cell_type": "code",
   "execution_count": null,
   "id": "39cd78f1-f262-4215-af37-1ef3b7a68e6f",
   "metadata": {},
   "outputs": [],
   "source": [
    "\n",
    "\n",
    "from pymatgen.ext.matproj import MPRester\n",
    "from pymatgen import Structure\n",
    "from jupyter_jsmol.pymatgen import quick_view\n",
    "\n",
    "from pymatgen.electronic_structure import bandstructure\n",
    "from pymatgen.electronic_structure import plotter\n",
    "from pymatgen.electronic_structure.plotter import BSPlotter\n",
    "import numpy as np\n",
    "import matplotlib.pyplot as plt\n",
    "\n",
    "mp_key = \"ER5V8i0JUw7k31Nk5IpkvogP61BDz9cw\"\n",
    "mp_id = \"mp-441\"\n",
    "with MPRester(mp_key) as m:\n",
    "    structure = m.get_structure_by_material_id(mp_id)\n",
    "conv_structure = SpacegroupAnalyzer(structure).get_conventional_standard_structure()"
   ]
  },
  {
   "cell_type": "code",
   "execution_count": null,
   "id": "d4673a40-23b6-4eb3-9a27-e8e85b49e6c8",
   "metadata": {},
   "outputs": [],
   "source": [
    "plot = BSPlotter(band_structure)\n",
    "plot.get_plot(vbm_cbm_marker=True)"
   ]
  },
  {
   "cell_type": "markdown",
   "id": "2c849fe6-267c-42a8-abfa-2144af45ed53",
   "metadata": {},
   "source": [
    "### Bande interdite"
   ]
  },
  {
   "cell_type": "code",
   "execution_count": null,
   "id": "dbc323c0-987c-4d1b-b163-43b8509b7e53",
   "metadata": {},
   "outputs": [],
   "source": [
    "gap = band_structure.get_band_gap()\n",
    "e_band = gap.get('energy')\n",
    "print('Energie de la bande :', e_band, 'eV.')\n",
    "if gap.get('direct') == False:\n",
    "    print('La bande interdite est indirect.')\n",
    "else:\n",
    "    print('La bande interdite est direct.')\n",
    "\n",
    "print('La bande interdite se situe entre 0 eV et {} eV.'.format(e_band))\n",
    "print(\"Vecteur de transition :\", gap['transition'])"
   ]
  },
  {
   "cell_type": "markdown",
   "id": "841d0cd7-b36f-4ada-a521-d004d899ac2d",
   "metadata": {},
   "source": [
    "### Derniere bande de valence"
   ]
  },
  {
   "cell_type": "code",
   "execution_count": null,
   "id": "2346559f-53a6-4078-bb4a-065851e8912f",
   "metadata": {},
   "outputs": [],
   "source": [
    "\n",
    "\n",
    "data = plotter.BSPlotter(band_structure).bs_plot_data()\n",
    "x = data.get('ticks').get('distance')\n",
    "x = np.array([x[0], x[1], x[3], x[5], x[7], x[9], x[11], x[13], x[15], x[17], x[18]])\n",
    "y = data.get('energy')\n",
    "\n",
    "# Determine l'énergie 0\n",
    "E_0 = data.get('zero_energy')\n",
    "print(\"Energie 0 = {} eV\".format(E_0))\n",
    "\n",
    "# Determine la dernière bande de valence\n",
    "vbm = band_structure.get_vbm()\n",
    "E_vbm = vbm['energy']\n",
    "kpoint_vbm = vbm['kpoint'].cart_coords\n",
    "\n",
    "print('Energie du maximum de la bande de valence = {} eV'.format(E_vbm))\n",
    "print('sur le graphe : E-Ef = ', (E_vbm-E_0))\n",
    "print('Vecteur k  en coordonnées cartésiennes =', kpoint_vbm)\n",
    "print(vbm.get('band_index'))\n"
   ]
  },
  {
   "cell_type": "markdown",
   "id": "3e0fbed5-40d6-466a-82a7-50d994b0766b",
   "metadata": {},
   "source": [
    "### premiere bande de conduction"
   ]
  },
  {
   "cell_type": "code",
   "execution_count": null,
   "id": "d657c66b-c5a1-4351-bdde-210a6fd3692f",
   "metadata": {},
   "outputs": [],
   "source": [
    "cbm = band_structure.get_cbm()\n",
    "E_cbm = cbm['energy']\n",
    "kpoint_cbm = cbm['kpoint'].cart_coords\n",
    "\n",
    "print('Energie du minimum de la bande de conduction = ',E_cbm,'eV')\n",
    "print('sur le graphe : E-Ef = ', (E_cbm-E_0))\n",
    "print('Vecteur k (coordonnées cartésiennes) =',kpoint_cbm)\n",
    "print(cbm.get('band_index'))\n"
   ]
  },
  {
   "cell_type": "markdown",
   "id": "b4d40ab8-cab7-4dd1-bf04-f8c1a8c2f5ea",
   "metadata": {},
   "source": [
    "#### Directio dispertion"
   ]
  },
  {
   "cell_type": "code",
   "execution_count": null,
   "id": "d0c4ec2c-c1fd-4f06-9fb9-59ae9127e1ca",
   "metadata": {},
   "outputs": [],
   "source": [
    "dx = np.zeros(10)\n",
    "dyc = np.zeros(10)\n",
    "dyv = np.zeros(10)\n",
    "mc = np.zeros(10)\n",
    "mv = np.zeros(10)\n",
    "\n",
    "for i in range(10):\n",
    "    dx[i] = x[i+1] - x[i]\n",
    "    \n",
    "for i in range(10):\n",
    "    dyv[i] =y.get('1')[i][14][-1] - y.get('1')[i][14][0]\n",
    "    dyc[i] =y.get('1')[i][15][-1] - y.get('1')[i][15][0]\n",
    "    \n",
    "for i in range (10):\n",
    "    mc[i] = dyc[i]/dx[i]\n",
    "    mv[i] = dyv[i]/dx[i] \n",
    "    \n",
    "\n",
    "print(\"En valeur absolue:\")\n",
    "mxV = np.max(abs(mv))\n",
    "print(\"Plus grande dispersion pour la bande de valence: \", mxV)\n",
    "mxC = np.max(abs(mc))\n",
    "print(\"Plus grande dispersion pour la bande de conduction: \", mxC)\n",
    "mnV = np.min(abs(mv))\n",
    "print(\"Plus faible dispersion pour la bande de valence: \", mnV)\n",
    "mnC = np.min(abs(mc))\n",
    "print(\"Plus faible dispersion pour la bande de conduction: \", mnC)"
   ]
  },
  {
   "cell_type": "code",
   "execution_count": null,
   "id": "b9591416-8290-4e77-920d-e024dd3671e8",
   "metadata": {},
   "outputs": [],
   "source": [
    "BSPlotter(band_structure).get_plot()\n",
    "plt.arrow(x[7], (y.get('1')[7][14])[0], dx[7], dyv[7], color = 'r', head_width = 0.1,length_includes_head=True)\n",
    "plt.arrow(x[1], (y.get('1')[1][14])[0], dx[1], dyv[1], color = 'g', head_width = 0.1,length_includes_head=True)\n",
    "plt.arrow(x[0], (y.get('1')[0][15])[0], dx[0], dyc[0], color = 'b', head_width = 0.1,length_includes_head=True)\n",
    "plt.arrow(x[2], (y.get('1')[2][15])[0], dx[2], dyc[2], color = 'y', head_width = 0.1,length_includes_head=True)\n",
    "\n",
    "plt.show()"
   ]
  },
  {
   "cell_type": "markdown",
   "id": "97cabf56-d728-4541-b4d4-9f14ff43e7ee",
   "metadata": {},
   "source": [
    "### Masse effective derniere bande de valance et premmiere bande de conduction"
   ]
  },
  {
   "cell_type": "code",
   "execution_count": null,
   "id": "74fb913b-0066-4593-aba6-29d1cfc8ca10",
   "metadata": {},
   "outputs": [],
   "source": [
    "kpoint_val = band_structure.get_vbm().get('kpoint').frac_coords\n",
    "norm_k_val = np.linalg.norm(kpoint_val)\n",
    "print('Pour la bande de valence, la valeur de la norme est {}'.format(norm_k_val))\n",
    "\n",
    "kpoint_con = band_structure.get_cbm().get('kpoint').frac_coords\n",
    "norm_k_con = np.linalg.norm(kpoint_con)\n",
    "\n",
    "print('Pour la bande de conduction, la valeur de la norme est {}'.format(norm_k_con))\n",
    "\n",
    "h_bar = 6.5821e-16\n",
    "m_electron = 9.11e-31\n",
    "\n",
    "m_vbm = (h_bar**2 * (kpoint_vbm[0]**2+kpoint_vbm[1]**2+kpoint_vbm[2]**2))/(2*abs(E_vbm))\n",
    "print('La masse effective au sommet de la dernière bande de valence = {} kg.'.format(m_vbm))"
   ]
  },
  {
   "cell_type": "code",
   "execution_count": null,
   "id": "d744b30a-f6e2-4e79-9de4-70a2501348a2",
   "metadata": {},
   "outputs": [],
   "source": [
    "m_cbm = (h_bar**2 * (kpoint_cbm[0]**2+kpoint_cbm[1]**2+kpoint_cbm[2]**2))/(2*E_cbm)\n",
    "print('La masse effective à la base de la première bande de conduction = {} kg.'.format(m_cbm))"
   ]
  }
 ],
 "metadata": {
  "kernelspec": {
   "display_name": "Python 3 (ipykernel)",
   "language": "python",
   "name": "python3"
  },
  "language_info": {
   "codemirror_mode": {
    "name": "ipython",
    "version": 3
   },
   "file_extension": ".py",
   "mimetype": "text/x-python",
   "name": "python",
   "nbconvert_exporter": "python",
   "pygments_lexer": "ipython3",
   "version": "3.10.12"
  }
 },
 "nbformat": 4,
 "nbformat_minor": 5
}
