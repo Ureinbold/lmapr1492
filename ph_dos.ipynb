{
 "cells": [
  {
   "cell_type": "markdown",
   "id": "dc39bb8c-76b0-4b36-a605-a59f2bd1d806",
   "metadata": {},
   "source": [
    "### Tache 9"
   ]
  },
  {
   "cell_type": "code",
   "execution_count": null,
   "id": "f7588457-332b-48ef-8620-43e621c0f8bb",
   "metadata": {},
   "outputs": [],
   "source": [
    "\n",
    "\n",
    "import numpy as np\n",
    "from mp_api.client import MPRester\n",
    "from pymatgen.phonon.plotter import PhononBSPlotter\n",
    "from lmapr1492 import plot_brillouin_zone, get_plot_bs, get_plot_dos, get_plot_bs_and_dos, get_branch_wavevectors\n",
    "import plotly.graph_objects as go\n",
    "import matplotlib.pyplot as plt\n",
    "from scipy import integrate\n",
    "mp_key = \"ER5V8i0JUw7k31Nk5IpkvogP61BDz9cw\"\n",
    "mp_id = \"mp-441\"\n",
    "with MPRester(mp_key) as m:\n",
    "    #récupération de la structure\n",
    "    struct = m.get_structure_by_material_id(mp_id)\n",
    "    #récupération de la densité d'états de phonons\n",
    "    ph_dos = m.get_phonon_dos_by_material_id(mp_id)\n",
    "\n"
   ]
  },
  {
   "cell_type": "markdown",
   "id": "14058914-61c0-4575-88f4-5530c89c8e91",
   "metadata": {},
   "source": [
    "### Temp Debye et Einstein"
   ]
  },
  {
   "cell_type": "code",
   "execution_count": null,
   "id": "6ae49308-5efd-43f9-aa78-d93ddcae1a0e",
   "metadata": {},
   "outputs": [],
   "source": [
    "temperatures = np.arange(0,1000,5)\n",
    "R = 8.314\n",
    "Nat = len(struct)\n",
    "ph_cv = np.array([ph_dos.cv(temperatures[i]) for i in range(len(temperatures))])/(3*Nat*R)\n",
    "\n",
    "def einstein(e, T):\n",
    "    cv= ((e/T)**2) * np.exp(e/T) / ((np.exp(e/T) - 1) ** 2)\n",
    "    return cv\n",
    "\n",
    "erreur_minim = 0\n",
    "t_einstein = 1\n",
    "for i in range(1,1000):\n",
    "    erreur = 0\n",
    "    for j in range(1,200):\n",
    "        cv_pred = einstein(i, temperatures[j])\n",
    "        a = (cv_pred - ph_cv[j])**2\n",
    "        erreur += a\n",
    "    if i==1:\n",
    "        erreur_minim_e = erreur\n",
    "    if erreur < erreur_minim_e:\n",
    "        erreur_minim_e = erreur\n",
    "        t_einstein = i\n",
    "print(\"Température d'Einstein :\",t_einstein,\"K\")\n",
    "cv_einstein =[temperatures[0]]\n",
    "for i in range(1,200):\n",
    "    cv_einstein.append(einstein(t_einstein, temperatures[i]))\n",
    "\n",
    "def f(x):\n",
    "    return (x**4) * np.exp(x) / ((np.exp(x) - 1)**2)\n",
    "def modele_debye(d, T):\n",
    "    cv = 3*((T/d)**3)*integrate.quad(f, 0, d/T)[0]\n",
    "    return cv\n",
    "erreur_minin = 0\n",
    "t_debye = 1\n",
    "for i in range(1,1000):\n",
    "    erreur = 0\n",
    "    for j in range(1,200):\n",
    "        cv = modele_debye(i, temperatures[j])\n",
    "        a = (cv - ph_cv[j])**2\n",
    "        erreur += a\n",
    "    if i==1:\n",
    "        erreur_minim = erreur\n",
    "    if erreur < erreur_minim:\n",
    "        erreur_minim = erreur\n",
    "        t_debye = i\n",
    "print(\"Température de Debye :\",t_debye,\"K\")\n",
    "cv_debye=[temperatures[0]]\n",
    "for i in range(1,200):\n",
    "    cv_debye.append(modele_debye(t_debye, temperatures[i]))\n"
   ]
  },
  {
   "cell_type": "markdown",
   "id": "32d9be8a-bb11-4975-841d-96931bdf0af4",
   "metadata": {},
   "source": [
    "### Courbes Chaleurs"
   ]
  },
  {
   "cell_type": "code",
   "execution_count": null,
   "id": "2073f553-4d03-4d0b-a28a-4b3678b8986b",
   "metadata": {},
   "outputs": [],
   "source": [
    "plt.figure(figsize=(11, 8))\n",
    "plt.plot(temperatures, ph_cv, label='Données téléchargées')\n",
    "plt.plot(temperatures, cv_einstein, label=\"Einstein\")\n",
    "plt.plot(temperatures, cv_debye, label=\"Debye\")\n",
    "plt.title('Représentation des 3 courbes')\n",
    "plt.xlabel('température K')\n",
    "plt.ylabel('Cv/3NatR')\n",
    "plt.legend()\n",
    "plt.show()\n"
   ]
  },
  {
   "cell_type": "markdown",
   "id": "65267d56-e613-4686-9d7b-f4a18ee28270",
   "metadata": {},
   "source": [
    "### Densité d'etats des phonons"
   ]
  },
  {
   "cell_type": "code",
   "execution_count": null,
   "id": "3104f75c-1872-4eee-9f3e-edfc314888f1",
   "metadata": {},
   "outputs": [],
   "source": [
    "kb = 1.38064852e-23 \n",
    "h = 6.62607015e-34 \n",
    "f = ph_dos.frequencies\n",
    "dos = ph_dos.densities\n",
    "#frequence d'Einstein et de Debye en THz\n",
    "f_Einstein = (t_einstein * kb)*10**(-12)/h \n",
    "f_Debye = (t_debye * kb)*10**(-12)/h\n",
    "print(\"La fréquence d'Einstein est de \",f_Einstein,\"THz.\\n\")\n",
    "print(\"la fréquence de Debye est de \",f_Debye,\"THz.\")\n",
    "g_D = np.zeros(len(f))\n",
    "for i in range(len(f)):\n",
    "    if f[i]<f_D:\n",
    "        g_D[i] = (9*Nat*(f[i])**2)/((2*np.pi)*(f_D)**3)\n",
    "plt.figure(figsize=(10, 6))\n",
    "plt.plot(f, dos,color='b', label=\"Experimental\")\n",
    "plt.vlines(f_Einstein,0,3*Nat, color='g', label=\"Einstein\")\n",
    "plt.plot(f, g_D, color=\"r\", label=\"Debye\")\n",
    "plt.xlabel('Fréquence [THz]')\n",
    "plt.ylabel('DOS')\n",
    "plt.title(\"DOS du Rb2Te  des données expérimentales et théoriques\")\n",
    "plt.legend()\n",
    "plt.show()"
   ]
  },
  {
   "cell_type": "code",
   "execution_count": null,
   "id": "865c2b47-9632-423c-ad6c-ed50e86ac436",
   "metadata": {},
   "outputs": [],
   "source": []
  }
 ],
 "metadata": {
  "kernelspec": {
   "display_name": "Python 3 (ipykernel)",
   "language": "python",
   "name": "python3"
  },
  "language_info": {
   "codemirror_mode": {
    "name": "ipython",
    "version": 3
   },
   "file_extension": ".py",
   "mimetype": "text/x-python",
   "name": "python",
   "nbconvert_exporter": "python",
   "pygments_lexer": "ipython3",
   "version": "3.10.12"
  }
 },
 "nbformat": 4,
 "nbformat_minor": 5
}
