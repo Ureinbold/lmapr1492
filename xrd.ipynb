{
 "cells": [
  {
   "cell_type": "code",
   "execution_count": null,
   "id": "d4bb75f1-fb68-4486-8c13-03fca1c48acf",
   "metadata": {},
   "outputs": [],
   "source": [
    "from mp_api.client import MPRester\n",
    "from pymatgen.symmetry.analyzer import SpacegroupAnalyzer\n",
    "from pymatgen.analysis.diffraction.xrd import XRDCalculator\n",
    "\n",
    "mp_key = \"ER5V8i0JUw7k31Nk5IpkvogP61BDz9cw\"\n",
    "mp_id = \"mp-441\"\n",
    "with MPRester(mp_key) as m:\n",
    "    structure = m.get_structure_by_material_id(mp_id)\n",
    "conv_structure = SpacegroupAnalyzer(structure).get_conventional_standard_structure()\n"
   ]
  },
  {
   "cell_type": "markdown",
   "id": "cf7949ab-2808-43e3-b3e2-7ddd1a7e192c",
   "metadata": {},
   "source": [
    "## Diffractogramme"
   ]
  },
  {
   "cell_type": "code",
   "execution_count": null,
   "id": "4de79df1-f4ee-4ff3-abc1-deedce5565ba",
   "metadata": {},
   "outputs": [],
   "source": [
    "xrd = XRDCalculator(wavelength = 1.54060)  # rayonnement X incident Cu Kα de longueur d’onde λ=1.54060 Å.\n",
    "xrd.get_plot(conv_structure)\n",
    "pattern = xrd.get_pattern(conv_structure)"
   ]
  },
  {
   "cell_type": "markdown",
   "id": "1b65b49d-594d-4f03-a62e-a5f6c1a18a47",
   "metadata": {},
   "source": [
    "## Resultats des 3 premiers pics"
   ]
  },
  {
   "cell_type": "code",
   "execution_count": null,
   "id": "d0dfc80c-80d6-42ec-9f3a-528981041eca",
   "metadata": {},
   "outputs": [],
   "source": [
    "for i in range(3):\n",
    "    theta2 = pattern.x[i]\n",
    "    intensité = pattern.y[i]\n",
    "    indices_hkl = pattern.hkls[i][0].get(\"hkl\")\n",
    "    multiplicité = pattern.hkls[i][0].get(\"multiplicity\")\n",
    "    print(\"Pic numéro \" + str(i+1) +\":\\n\")\n",
    "    print(\"- L'angle 2θ vaut: \" + str(theta2) +\"°\\n\")\n",
    "    print(\"- L'intensité relative de ce pic (sur une échelle de 0 à 100) est de: \" +str(intensité) +\"\\n\")\n",
    "    print(\"- Les indices (h,k,l) sont \" + str(indices_hkl) +\"  et de multiplicité \" + str(multiplicité) +\"\\n\\n\")"
   ]
  }
 ],
 "metadata": {
  "kernelspec": {
   "display_name": "Python 3 (ipykernel)",
   "language": "python",
   "name": "python3"
  },
  "language_info": {
   "codemirror_mode": {
    "name": "ipython",
    "version": 3
   },
   "file_extension": ".py",
   "mimetype": "text/x-python",
   "name": "python",
   "nbconvert_exporter": "python",
   "pygments_lexer": "ipython3",
   "version": "3.10.12"
  }
 },
 "nbformat": 4,
 "nbformat_minor": 5
}
